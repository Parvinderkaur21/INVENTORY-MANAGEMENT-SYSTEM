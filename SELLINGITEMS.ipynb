{
  "nbformat": 4,
  "nbformat_minor": 0,
  "metadata": {
    "colab": {
      "name": "sellingitems.ipynb",
      "provenance": [],
      "collapsed_sections": []
    },
    "kernelspec": {
      "name": "python3",
      "display_name": "Python 3"
    },
    "language_info": {
      "name": "python"
    }
  },
  "cells": [
    {
      "cell_type": "markdown",
      "metadata": {
        "id": "V2A1CnJo9d7F"
      },
      "source": [
        "***READ DATA FROM JSON***"
      ]
    },
    {
      "cell_type": "code",
      "metadata": {
        "id": "Gu2CKczj8FW1"
      },
      "source": [
        "import json\n",
        "\n",
        "fd = open(\"record.json\",\"r\")\n",
        "r = fd.read()\n",
        "fd.close()\n",
        "\n",
        "record = json.loads(r)"
      ],
      "execution_count": 54,
      "outputs": []
    },
    {
      "cell_type": "code",
      "metadata": {
        "colab": {
          "base_uri": "https://localhost:8080/"
        },
        "id": "NWnE4irD9P_N",
        "outputId": "9d19aaba-a733-4b0f-f5d4-3d36651e92cf"
      },
      "source": [
        "record"
      ],
      "execution_count": 55,
      "outputs": [
        {
          "output_type": "execute_result",
          "data": {
            "text/plain": [
              "{'101': {'expiry date': '04/22',\n",
              "  'measurement': 'piece',\n",
              "  'price      ': 20,\n",
              "  'product    ': 'lays        ',\n",
              "  'quantity   ': 14,\n",
              "  'supplier   ': 'TNG Food            '},\n",
              " '102': {'expiry date': '01/23',\n",
              "  'measurement': 'piece',\n",
              "  'price      ': 10,\n",
              "  'product    ': 'pen         ',\n",
              "  'quantity   ': 18,\n",
              "  'supplier   ': 'smart suppliers     '},\n",
              " '103': {'expiry date': '09/22',\n",
              "  'measurement': 'piece',\n",
              "  'price      ': 10,\n",
              "  'product    ': 'kitkat      ',\n",
              "  'quantity   ': 50,\n",
              "  'supplier   ': 'national stores     '},\n",
              " '104': {'expiry date': '05/23',\n",
              "  'measurement': 'kilo ',\n",
              "  'price      ': 80,\n",
              "  'product    ': 'basmati rice',\n",
              "  'quantity   ': 8,\n",
              "  'supplier   ': 'sidhar enterprise   '},\n",
              " '105': {'expiry date': '02/24',\n",
              "  'measurement': 'piece',\n",
              "  'price      ': 12,\n",
              "  'product    ': 'kurkure     ',\n",
              "  'quantity   ': 12,\n",
              "  'supplier   ': 'grace enterprises   '},\n",
              " '106': {'expiry date': '12/23',\n",
              "  'measurement': 'piece',\n",
              "  'price      ': 15,\n",
              "  'product    ': 'frooti      ',\n",
              "  'quantity   ': 40,\n",
              "  'supplier   ': 'rolls mania         '},\n",
              " '107': {'expiry date': '10/23',\n",
              "  'measurement': 'piece',\n",
              "  'price      ': 35,\n",
              "  'product    ': 'register    ',\n",
              "  'quantity   ': 18,\n",
              "  'supplier   ': 'scalar enterprises  '},\n",
              " '108': {'expiry date': '08/22',\n",
              "  'measurement': 'piece',\n",
              "  'price      ': 30,\n",
              "  'product    ': 'colgate     ',\n",
              "  'quantity   ': 8,\n",
              "  'supplier   ': 'smart suppliers     '},\n",
              " '109': {'expiry date': '07/24',\n",
              "  'measurement': 'piece',\n",
              "  'price      ': 5,\n",
              "  'product    ': 'parle G     ',\n",
              "  'quantity   ': 100,\n",
              "  'supplier   ': 'TNG food            '},\n",
              " '110': {'expiry date': '04/23',\n",
              "  'measurement': 'piece',\n",
              "  'price      ': 12,\n",
              "  'product    ': 'gems        ',\n",
              "  'quantity   ': 35,\n",
              "  'supplier   ': 'shagun enterprises  '},\n",
              " '111': {'expiry date': '02/24',\n",
              "  'measurement': 'kilo ',\n",
              "  'price      ': 199,\n",
              "  'product    ': 'rajma       ',\n",
              "  'quantity   ': 5,\n",
              "  'supplier   ': 'sankalp             '},\n",
              " '112': {'expiry date': '03/25',\n",
              "  'measurement': 'piece',\n",
              "  'price      ': 20,\n",
              "  'product    ': 'uncle chips ',\n",
              "  'quantity   ': 28,\n",
              "  'supplier   ': 'rolls mania         '},\n",
              " '113': {'expiry date': '06/23',\n",
              "  'measurement': 'piece',\n",
              "  'price      ': 1,\n",
              "  'product    ': 'melody      ',\n",
              "  'quantity   ': 212,\n",
              "  'supplier   ': 'TNG food            '},\n",
              " '114': {'expiry date': '01/23',\n",
              "  'measurement': 'litre',\n",
              "  'price      ': 58,\n",
              "  'product    ': 'amul milk   ',\n",
              "  'quantity   ': 14,\n",
              "  'supplier   ': 'rahul diary         '},\n",
              " '115': {'expiry date': '12/22',\n",
              "  'measurement': 'piece',\n",
              "  'price      ': 120,\n",
              "  'product    ': 'khakras     ',\n",
              "  'quantity   ': 20,\n",
              "  'supplier   ': \"daadi's             \"},\n",
              " '116': {'expiry date': '10/25',\n",
              "  'measurement': 'piece',\n",
              "  'price      ': 70,\n",
              "  'product    ': 'aloo bhujia ',\n",
              "  'quantity   ': 45,\n",
              "  'supplier   ': 'unique enterprises  '},\n",
              " '117': {'expiry date': '11/23',\n",
              "  'measurement': 'piece',\n",
              "  'price      ': 82,\n",
              "  'product    ': 'pringles    ',\n",
              "  'quantity   ': 49,\n",
              "  'supplier   ': 'grocerybroz         '},\n",
              " '118': {'expiry date': '05/22',\n",
              "  'measurement': 'piece',\n",
              "  'price      ': 85,\n",
              "  'product    ': 'nachos      ',\n",
              "  'quantity   ': 8,\n",
              "  'supplier   ': 'natonal store       '},\n",
              " '119': {'expiry date': '03/22',\n",
              "  'measurement': 'piece',\n",
              "  'price      ': 10,\n",
              "  'product    ': 'jim jam     ',\n",
              "  'quantity   ': 40,\n",
              "  'supplier   ': 'unique enterprises  '},\n",
              " '120': {'expiry date': '01/24',\n",
              "  'measurement': 'piece',\n",
              "  'price      ': 103,\n",
              "  'product    ': 'red bull    ',\n",
              "  'quantity   ': 15,\n",
              "  'supplier   ': 'trade munch         '},\n",
              " '121': {'expiry date': '10/23',\n",
              "  'measurement': 'kilo ',\n",
              "  'price      ': 170,\n",
              "  'product    ': 'oats        ',\n",
              "  'quantity   ': 8,\n",
              "  'supplier   ': 'sankalp             '},\n",
              " '122': {'expiry date': '09/23',\n",
              "  'measurement': 'kilo ',\n",
              "  'price      ': 180,\n",
              "  'product    ': 'arhar dal   ',\n",
              "  'quantity   ': 0,\n",
              "  'supplier   ': 'grace enterprises   '},\n",
              " '123': {'expiry date': '10/22',\n",
              "  'measurement': 'piece',\n",
              "  'price      ': 276,\n",
              "  'product    ': 'corn flakes ',\n",
              "  'quantity   ': 7,\n",
              "  'supplier   ': 'trade munch         '},\n",
              " '124': {'expiry date': '11/23',\n",
              "  'measurement': 'piece',\n",
              "  'price      ': 476,\n",
              "  'product    ': 'pedia sure  ',\n",
              "  'quantity   ': 9,\n",
              "  'supplier   ': 'TNG food            '},\n",
              " '125': {'expiry date': '12/24',\n",
              "  'measurement': 'kilo ',\n",
              "  'price      ': 43,\n",
              "  'product    ': 'aata        ',\n",
              "  'quantity   ': 25,\n",
              "  'supplier   ': 'deep flour mills    '},\n",
              " '126': {'expiry date': '09/23',\n",
              "  'measurement': 'piece',\n",
              "  'price      ': 12,\n",
              "  'product    ': 'maggi       ',\n",
              "  'quantity   ': 38,\n",
              "  'supplier   ': 'shagun enterprises  '},\n",
              " '127': {'expiry date': '06/24',\n",
              "  'measurement': 'kilo ',\n",
              "  'price      ': 120,\n",
              "  'product    ': 'besan       ',\n",
              "  'quantity   ': 12,\n",
              "  'supplier   ': 'grocerybroz         '},\n",
              " '128': {'expiry date': '03/22',\n",
              "  'measurement': 'piece',\n",
              "  'price      ': 10,\n",
              "  'product    ': 'choco pie   ',\n",
              "  'quantity   ': 60,\n",
              "  'supplier   ': 'jay impex           '},\n",
              " '129': {'expiry date': '11/23',\n",
              "  'measurement': 'piece',\n",
              "  'price      ': 30,\n",
              "  'product    ': 'oreo        ',\n",
              "  'quantity   ': 42,\n",
              "  'supplier   ': 'smart suppliers     '},\n",
              " '130': {'expiry date': '04/22',\n",
              "  'measurement': 'piece',\n",
              "  'price      ': 50,\n",
              "  'product    ': 'chakli      ',\n",
              "  'quantity   ': 40,\n",
              "  'supplier   ': 'national enterprises'},\n",
              " '131': {'expiry date': '12/23',\n",
              "  'measurement': 'piece',\n",
              "  'price      ': 15,\n",
              "  'product    ': 'sunfeast    ',\n",
              "  'quantity   ': 20,\n",
              "  'supplier   ': 'smart suppliers     '},\n",
              " '132': {'expiry date': '02/24',\n",
              "  'measurement': 'piece',\n",
              "  'price      ': 4,\n",
              "  'product    ': 'pencil      ',\n",
              "  'quantity   ': 120,\n",
              "  'supplier   ': 'scalar enterprises  '},\n",
              " '133': {'expiry date': '10/22',\n",
              "  'measurement': 'piece',\n",
              "  'price      ': 20,\n",
              "  'product    ': 'soda        ',\n",
              "  'quantity   ': 45,\n",
              "  'supplier   ': 'grocerybroz         '},\n",
              " '134': {'expiry date': '01/25',\n",
              "  'measurement': 'piece',\n",
              "  'price      ': 35,\n",
              "  'product    ': 'sprite      ',\n",
              "  'quantity   ': 24,\n",
              "  'supplier   ': 'TNG food            '},\n",
              " '135': {'expiry date': '07/23',\n",
              "  'measurement': 'piece',\n",
              "  'price      ': 10,\n",
              "  'product    ': 'yippee      ',\n",
              "  'quantity   ': 52,\n",
              "  'supplier   ': 'national enterprises'},\n",
              " '136': {'expiry date': '03/23',\n",
              "  'measurement': 'piece',\n",
              "  'price      ': 10,\n",
              "  'product    ': 'bar one     ',\n",
              "  'quantity   ': 40,\n",
              "  'supplier   ': 'food enterprises    '},\n",
              " '137': {'expiry date': '12/24',\n",
              "  'measurement': 'piece',\n",
              "  'price      ': 15,\n",
              "  'product    ': 'real juice  ',\n",
              "  'quantity   ': 30,\n",
              "  'supplier   ': 'jay implex          '},\n",
              " '138': {'expiry date': '02/22',\n",
              "  'measurement': 'piece',\n",
              "  'price': 25,\n",
              "  'product': 'paste',\n",
              "  'quantity': 28,\n",
              "  'supplier': 'sonu enterprise'}}"
            ]
          },
          "metadata": {},
          "execution_count": 55
        }
      ]
    },
    {
      "cell_type": "markdown",
      "metadata": {
        "id": "r2qHqxQW9s3b"
      },
      "source": [
        "***SELLING ITEMS TO CUSTOMERS***"
      ]
    },
    {
      "cell_type": "code",
      "metadata": {
        "colab": {
          "base_uri": "https://localhost:8080/"
        },
        "id": "d1bSKW0r9RTa",
        "outputId": "cf6b14af-6a6f-4035-c8de-4cc6843f6815"
      },
      "source": [
        "print('MODERN STORE')\n",
        "print('Address: 12/2, Sarojini nagar , Delhi')\n",
        "print('Contact us at modern24445store@gmail.com')\n",
        "\n",
        "ui_prod = str(input(\"Enter the product id: \"))\n",
        "ui_quan = int(input(\"Enter the quantity: \"))\n",
        "ui_pay  = str(input(\"Enter payment mode: \"))\n",
        "\n",
        "\n",
        "print(\"ORDER DETAILS: \")                                    \n",
        "print(\"Product: \", record[ui_prod]['product    '])\n",
        "print(\"Price: \", record[ui_prod]['price      '])\n",
        "print(\"Payment method: \" , ui_pay)\n",
        "print(\"Billing Amount\" , record[ui_prod]['price      '] * ui_quan)\n",
        "                                                  \n",
        "record[ui_prod]['quantity   '] = record[ui_prod]['quantity   '] - ui_quan\n",
        "                                          \n"
      ],
      "execution_count": 56,
      "outputs": [
        {
          "output_type": "stream",
          "name": "stdout",
          "text": [
            "MODERN STORE\n",
            "Address: 12/2, Sarojini nagar , Delhi\n",
            "Contact us at modern24445store@gmail.com\n",
            "Enter the product id: 110\n",
            "Enter the quantity: 3\n",
            "Enter payment mode: paytm\n",
            "ORDER DETAILS: \n",
            "Product:  gems        \n",
            "Price:  12\n",
            "Payment method:  paytm\n",
            "Billing Amount 36\n"
          ]
        }
      ]
    },
    {
      "cell_type": "code",
      "metadata": {
        "colab": {
          "base_uri": "https://localhost:8080/"
        },
        "id": "8f2ThrrP_l3w",
        "outputId": "b82ba5de-b705-449b-c8c6-2939987baae5"
      },
      "source": [
        "record"
      ],
      "execution_count": 57,
      "outputs": [
        {
          "output_type": "execute_result",
          "data": {
            "text/plain": [
              "{'101': {'expiry date': '04/22',\n",
              "  'measurement': 'piece',\n",
              "  'price      ': 20,\n",
              "  'product    ': 'lays        ',\n",
              "  'quantity   ': 14,\n",
              "  'supplier   ': 'TNG Food            '},\n",
              " '102': {'expiry date': '01/23',\n",
              "  'measurement': 'piece',\n",
              "  'price      ': 10,\n",
              "  'product    ': 'pen         ',\n",
              "  'quantity   ': 18,\n",
              "  'supplier   ': 'smart suppliers     '},\n",
              " '103': {'expiry date': '09/22',\n",
              "  'measurement': 'piece',\n",
              "  'price      ': 10,\n",
              "  'product    ': 'kitkat      ',\n",
              "  'quantity   ': 50,\n",
              "  'supplier   ': 'national stores     '},\n",
              " '104': {'expiry date': '05/23',\n",
              "  'measurement': 'kilo ',\n",
              "  'price      ': 80,\n",
              "  'product    ': 'basmati rice',\n",
              "  'quantity   ': 8,\n",
              "  'supplier   ': 'sidhar enterprise   '},\n",
              " '105': {'expiry date': '02/24',\n",
              "  'measurement': 'piece',\n",
              "  'price      ': 12,\n",
              "  'product    ': 'kurkure     ',\n",
              "  'quantity   ': 12,\n",
              "  'supplier   ': 'grace enterprises   '},\n",
              " '106': {'expiry date': '12/23',\n",
              "  'measurement': 'piece',\n",
              "  'price      ': 15,\n",
              "  'product    ': 'frooti      ',\n",
              "  'quantity   ': 40,\n",
              "  'supplier   ': 'rolls mania         '},\n",
              " '107': {'expiry date': '10/23',\n",
              "  'measurement': 'piece',\n",
              "  'price      ': 35,\n",
              "  'product    ': 'register    ',\n",
              "  'quantity   ': 18,\n",
              "  'supplier   ': 'scalar enterprises  '},\n",
              " '108': {'expiry date': '08/22',\n",
              "  'measurement': 'piece',\n",
              "  'price      ': 30,\n",
              "  'product    ': 'colgate     ',\n",
              "  'quantity   ': 8,\n",
              "  'supplier   ': 'smart suppliers     '},\n",
              " '109': {'expiry date': '07/24',\n",
              "  'measurement': 'piece',\n",
              "  'price      ': 5,\n",
              "  'product    ': 'parle G     ',\n",
              "  'quantity   ': 100,\n",
              "  'supplier   ': 'TNG food            '},\n",
              " '110': {'expiry date': '04/23',\n",
              "  'measurement': 'piece',\n",
              "  'price      ': 12,\n",
              "  'product    ': 'gems        ',\n",
              "  'quantity   ': 32,\n",
              "  'supplier   ': 'shagun enterprises  '},\n",
              " '111': {'expiry date': '02/24',\n",
              "  'measurement': 'kilo ',\n",
              "  'price      ': 199,\n",
              "  'product    ': 'rajma       ',\n",
              "  'quantity   ': 5,\n",
              "  'supplier   ': 'sankalp             '},\n",
              " '112': {'expiry date': '03/25',\n",
              "  'measurement': 'piece',\n",
              "  'price      ': 20,\n",
              "  'product    ': 'uncle chips ',\n",
              "  'quantity   ': 28,\n",
              "  'supplier   ': 'rolls mania         '},\n",
              " '113': {'expiry date': '06/23',\n",
              "  'measurement': 'piece',\n",
              "  'price      ': 1,\n",
              "  'product    ': 'melody      ',\n",
              "  'quantity   ': 212,\n",
              "  'supplier   ': 'TNG food            '},\n",
              " '114': {'expiry date': '01/23',\n",
              "  'measurement': 'litre',\n",
              "  'price      ': 58,\n",
              "  'product    ': 'amul milk   ',\n",
              "  'quantity   ': 14,\n",
              "  'supplier   ': 'rahul diary         '},\n",
              " '115': {'expiry date': '12/22',\n",
              "  'measurement': 'piece',\n",
              "  'price      ': 120,\n",
              "  'product    ': 'khakras     ',\n",
              "  'quantity   ': 20,\n",
              "  'supplier   ': \"daadi's             \"},\n",
              " '116': {'expiry date': '10/25',\n",
              "  'measurement': 'piece',\n",
              "  'price      ': 70,\n",
              "  'product    ': 'aloo bhujia ',\n",
              "  'quantity   ': 45,\n",
              "  'supplier   ': 'unique enterprises  '},\n",
              " '117': {'expiry date': '11/23',\n",
              "  'measurement': 'piece',\n",
              "  'price      ': 82,\n",
              "  'product    ': 'pringles    ',\n",
              "  'quantity   ': 49,\n",
              "  'supplier   ': 'grocerybroz         '},\n",
              " '118': {'expiry date': '05/22',\n",
              "  'measurement': 'piece',\n",
              "  'price      ': 85,\n",
              "  'product    ': 'nachos      ',\n",
              "  'quantity   ': 8,\n",
              "  'supplier   ': 'natonal store       '},\n",
              " '119': {'expiry date': '03/22',\n",
              "  'measurement': 'piece',\n",
              "  'price      ': 10,\n",
              "  'product    ': 'jim jam     ',\n",
              "  'quantity   ': 40,\n",
              "  'supplier   ': 'unique enterprises  '},\n",
              " '120': {'expiry date': '01/24',\n",
              "  'measurement': 'piece',\n",
              "  'price      ': 103,\n",
              "  'product    ': 'red bull    ',\n",
              "  'quantity   ': 15,\n",
              "  'supplier   ': 'trade munch         '},\n",
              " '121': {'expiry date': '10/23',\n",
              "  'measurement': 'kilo ',\n",
              "  'price      ': 170,\n",
              "  'product    ': 'oats        ',\n",
              "  'quantity   ': 8,\n",
              "  'supplier   ': 'sankalp             '},\n",
              " '122': {'expiry date': '09/23',\n",
              "  'measurement': 'kilo ',\n",
              "  'price      ': 180,\n",
              "  'product    ': 'arhar dal   ',\n",
              "  'quantity   ': 0,\n",
              "  'supplier   ': 'grace enterprises   '},\n",
              " '123': {'expiry date': '10/22',\n",
              "  'measurement': 'piece',\n",
              "  'price      ': 276,\n",
              "  'product    ': 'corn flakes ',\n",
              "  'quantity   ': 7,\n",
              "  'supplier   ': 'trade munch         '},\n",
              " '124': {'expiry date': '11/23',\n",
              "  'measurement': 'piece',\n",
              "  'price      ': 476,\n",
              "  'product    ': 'pedia sure  ',\n",
              "  'quantity   ': 9,\n",
              "  'supplier   ': 'TNG food            '},\n",
              " '125': {'expiry date': '12/24',\n",
              "  'measurement': 'kilo ',\n",
              "  'price      ': 43,\n",
              "  'product    ': 'aata        ',\n",
              "  'quantity   ': 25,\n",
              "  'supplier   ': 'deep flour mills    '},\n",
              " '126': {'expiry date': '09/23',\n",
              "  'measurement': 'piece',\n",
              "  'price      ': 12,\n",
              "  'product    ': 'maggi       ',\n",
              "  'quantity   ': 38,\n",
              "  'supplier   ': 'shagun enterprises  '},\n",
              " '127': {'expiry date': '06/24',\n",
              "  'measurement': 'kilo ',\n",
              "  'price      ': 120,\n",
              "  'product    ': 'besan       ',\n",
              "  'quantity   ': 12,\n",
              "  'supplier   ': 'grocerybroz         '},\n",
              " '128': {'expiry date': '03/22',\n",
              "  'measurement': 'piece',\n",
              "  'price      ': 10,\n",
              "  'product    ': 'choco pie   ',\n",
              "  'quantity   ': 60,\n",
              "  'supplier   ': 'jay impex           '},\n",
              " '129': {'expiry date': '11/23',\n",
              "  'measurement': 'piece',\n",
              "  'price      ': 30,\n",
              "  'product    ': 'oreo        ',\n",
              "  'quantity   ': 42,\n",
              "  'supplier   ': 'smart suppliers     '},\n",
              " '130': {'expiry date': '04/22',\n",
              "  'measurement': 'piece',\n",
              "  'price      ': 50,\n",
              "  'product    ': 'chakli      ',\n",
              "  'quantity   ': 40,\n",
              "  'supplier   ': 'national enterprises'},\n",
              " '131': {'expiry date': '12/23',\n",
              "  'measurement': 'piece',\n",
              "  'price      ': 15,\n",
              "  'product    ': 'sunfeast    ',\n",
              "  'quantity   ': 20,\n",
              "  'supplier   ': 'smart suppliers     '},\n",
              " '132': {'expiry date': '02/24',\n",
              "  'measurement': 'piece',\n",
              "  'price      ': 4,\n",
              "  'product    ': 'pencil      ',\n",
              "  'quantity   ': 120,\n",
              "  'supplier   ': 'scalar enterprises  '},\n",
              " '133': {'expiry date': '10/22',\n",
              "  'measurement': 'piece',\n",
              "  'price      ': 20,\n",
              "  'product    ': 'soda        ',\n",
              "  'quantity   ': 45,\n",
              "  'supplier   ': 'grocerybroz         '},\n",
              " '134': {'expiry date': '01/25',\n",
              "  'measurement': 'piece',\n",
              "  'price      ': 35,\n",
              "  'product    ': 'sprite      ',\n",
              "  'quantity   ': 24,\n",
              "  'supplier   ': 'TNG food            '},\n",
              " '135': {'expiry date': '07/23',\n",
              "  'measurement': 'piece',\n",
              "  'price      ': 10,\n",
              "  'product    ': 'yippee      ',\n",
              "  'quantity   ': 52,\n",
              "  'supplier   ': 'national enterprises'},\n",
              " '136': {'expiry date': '03/23',\n",
              "  'measurement': 'piece',\n",
              "  'price      ': 10,\n",
              "  'product    ': 'bar one     ',\n",
              "  'quantity   ': 40,\n",
              "  'supplier   ': 'food enterprises    '},\n",
              " '137': {'expiry date': '12/24',\n",
              "  'measurement': 'piece',\n",
              "  'price      ': 15,\n",
              "  'product    ': 'real juice  ',\n",
              "  'quantity   ': 30,\n",
              "  'supplier   ': 'jay implex          '},\n",
              " '138': {'expiry date': '02/22',\n",
              "  'measurement': 'piece',\n",
              "  'price': 25,\n",
              "  'product': 'paste',\n",
              "  'quantity': 28,\n",
              "  'supplier': 'sonu enterprise'}}"
            ]
          },
          "metadata": {},
          "execution_count": 57
        }
      ]
    },
    {
      "cell_type": "markdown",
      "metadata": {
        "id": "xQZ65TxUIxx0"
      },
      "source": [
        "***UPDATE INVENTORY AFTER PURCHASE***"
      ]
    },
    {
      "cell_type": "code",
      "metadata": {
        "id": "jRBunUTgHz8h"
      },
      "source": [
        "js = json.dumps(record)\n",
        "\n",
        "fd = open(\"record.json\",\"w\")\n",
        "fd.write(js)\n",
        "fd.close()"
      ],
      "execution_count": 58,
      "outputs": []
    },
    {
      "cell_type": "markdown",
      "metadata": {
        "id": "lOoePVi3SjKF"
      },
      "source": [
        "***SALES MADE BY STORE***"
      ]
    },
    {
      "cell_type": "code",
      "metadata": {
        "colab": {
          "base_uri": "https://localhost:8080/"
        },
        "id": "kgd_wqURRx5a",
        "outputId": "bf518a39-782f-4bbd-c061-cf6f440ed5dc"
      },
      "source": [
        "{'product': ui_prod , 'quantity': ui_quan , 'price': record[ui_prod]['price      '] * ui_quan}"
      ],
      "execution_count": 59,
      "outputs": [
        {
          "output_type": "execute_result",
          "data": {
            "text/plain": [
              "{'price': 36, 'product': '110', 'quantity': 3}"
            ]
          },
          "metadata": {},
          "execution_count": 59
        }
      ]
    },
    {
      "cell_type": "code",
      "metadata": {
        "id": "yGGMCIzDUWdV"
      },
      "source": [
        "sales  = {1 : {'product': ui_prod , 'quantity': ui_quan , 'price': record[ui_prod]['price      '] * ui_quan},\n",
        "          2 : {'product': ui_prod , 'quantity': ui_quan , 'price': record[ui_prod]['price      '] * ui_quan},\n",
        "          3 : {'product': ui_prod , 'quantity': ui_quan , 'price': record[ui_prod]['price      '] * ui_quan},}"
      ],
      "execution_count": 60,
      "outputs": []
    },
    {
      "cell_type": "code",
      "metadata": {
        "colab": {
          "base_uri": "https://localhost:8080/",
          "height": 53
        },
        "id": "qspFIpZUbIiR",
        "outputId": "3187d25b-7271-414c-a3f5-c253b1bb138e"
      },
      "source": [
        "json.dumps(sales)"
      ],
      "execution_count": 61,
      "outputs": [
        {
          "output_type": "execute_result",
          "data": {
            "application/vnd.google.colaboratory.intrinsic+json": {
              "type": "string"
            },
            "text/plain": [
              "'{\"1\": {\"product\": \"110\", \"quantity\": 3, \"price\": 36}, \"2\": {\"product\": \"110\", \"quantity\": 3, \"price\": 36}, \"3\": {\"product\": \"110\", \"quantity\": 3, \"price\": 36}}'"
            ]
          },
          "metadata": {},
          "execution_count": 61
        }
      ]
    },
    {
      "cell_type": "code",
      "metadata": {
        "id": "8rT6hbSsbMCs"
      },
      "source": [
        "fd = open(\"record.json\",\"r\")\n",
        "r = fd.read()\n",
        "fd.close()"
      ],
      "execution_count": 51,
      "outputs": []
    },
    {
      "cell_type": "code",
      "metadata": {
        "colab": {
          "base_uri": "https://localhost:8080/"
        },
        "id": "FGif63MNbbjW",
        "outputId": "1fb1f60e-f885-4015-ff33-49c639f827a5"
      },
      "source": [
        "{(len(sales) + 1) :{'product': ui_prod , 'quantity': ui_quan , 'price': record[ui_prod]['price      '] * ui_quan}} "
      ],
      "execution_count": 62,
      "outputs": [
        {
          "output_type": "execute_result",
          "data": {
            "text/plain": [
              "{4: {'price': 36, 'product': '110', 'quantity': 3}}"
            ]
          },
          "metadata": {},
          "execution_count": 62
        }
      ]
    },
    {
      "cell_type": "code",
      "metadata": {
        "id": "iUhVehppeuDL"
      },
      "source": [
        "sales[(len(sales) + 1)] = {'product' : ui_prod , 'quantity': ui_quan , 'price': record[ui_prod]['price      '] * ui_quan}"
      ],
      "execution_count": 63,
      "outputs": []
    },
    {
      "cell_type": "code",
      "metadata": {
        "id": "fL0uWhxcfT9j"
      },
      "source": [
        "sales"
      ],
      "execution_count": null,
      "outputs": []
    },
    {
      "cell_type": "code",
      "metadata": {
        "id": "o8OYrr-SflvD"
      },
      "source": [
        "sale = json.dumps(sales)\n"
      ],
      "execution_count": 65,
      "outputs": []
    },
    {
      "cell_type": "code",
      "metadata": {
        "id": "o34SLQ5OhQ7E"
      },
      "source": [
        "sale"
      ],
      "execution_count": null,
      "outputs": []
    },
    {
      "cell_type": "code",
      "metadata": {
        "id": "l8YzQp08i-1I"
      },
      "source": [
        "fd = open(\"sales.json\",\"w\")\n",
        "fd.write(sale)\n",
        "fd.close()"
      ],
      "execution_count": 66,
      "outputs": []
    }
  ]
}